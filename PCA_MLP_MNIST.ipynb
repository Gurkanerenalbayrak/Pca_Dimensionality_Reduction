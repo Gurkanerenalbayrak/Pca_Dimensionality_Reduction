{
 "cells": [
  {
   "cell_type": "code",
   "execution_count": null,
   "metadata": {
    "colab": {
     "base_uri": "https://localhost:8080/"
    },
    "executionInfo": {
     "elapsed": 21864,
     "status": "ok",
     "timestamp": 1701527710333,
     "user": {
      "displayName": "Gürkan Albayrak",
      "userId": "10738356199584144970"
     },
     "user_tz": -180
    },
    "id": "aCPgCG9y8JBq",
    "outputId": "53ba11f4-ac6f-410f-90d5-209c71f31ba5"
   },
   "outputs": [
    {
     "name": "stdout",
     "output_type": "stream",
     "text": [
      "Mounted at /content/drive\n"
     ]
    }
   ],
   "source": [
    "from google.colab import drive\n",
    "\n",
    "# Bağlantı oluştur\n",
    "drive.mount('/content/drive', force_remount=True)"
   ]
  },
  {
   "cell_type": "code",
   "execution_count": null,
   "metadata": {
    "colab": {
     "base_uri": "https://localhost:8080/"
    },
    "executionInfo": {
     "elapsed": 248,
     "status": "ok",
     "timestamp": 1701527724192,
     "user": {
      "displayName": "Gürkan Albayrak",
      "userId": "10738356199584144970"
     },
     "user_tz": -180
    },
    "id": "yfR2dNOL9G2p",
    "outputId": "488eb2f8-ca77-4f93-ba1d-3f1a2bd9ddc1"
   },
   "outputs": [
    {
     "name": "stdout",
     "output_type": "stream",
     "text": [
      "Mevcut Dizin: /content\n"
     ]
    }
   ],
   "source": [
    "import os\n",
    "\n",
    "# Mevcut çalışma dizinini göster\n",
    "current_directory = os.getcwd()\n",
    "print(\"Mevcut Dizin:\", current_directory)"
   ]
  },
  {
   "cell_type": "code",
   "execution_count": null,
   "metadata": {
    "id": "OtEuEJ-99G5W"
   },
   "outputs": [],
   "source": [
    "import os\n",
    "os.chdir(\"/content/drive/My Drive/PCA_MLP_MNIST\")"
   ]
  },
  {
   "cell_type": "code",
   "execution_count": 8,
   "metadata": {
    "colab": {
     "base_uri": "https://localhost:8080/"
    },
    "executionInfo": {
     "elapsed": 57849,
     "status": "ok",
     "timestamp": 1701529112786,
     "user": {
      "displayName": "Gürkan Albayrak",
      "userId": "10738356199584144970"
     },
     "user_tz": -180
    },
    "id": "wRKKL_au9HBM",
    "outputId": "97e36599-d816-457d-feaf-cc7e6ebd6d4c"
   },
   "outputs": [
    {
     "name": "stdout",
     "output_type": "stream",
     "text": [
      "Epoch 1/12 - Loss: 1.8103 - Accuracy: 0.3750\n",
      "Epoch 2/12 - Loss: 1.3061 - Accuracy: 0.4688\n",
      "Epoch 3/12 - Loss: 1.0468 - Accuracy: 0.5938\n",
      "Epoch 4/12 - Loss: 0.8960 - Accuracy: 0.6250\n",
      "Epoch 5/12 - Loss: 0.7920 - Accuracy: 0.7188\n",
      "Epoch 6/12 - Loss: 0.7153 - Accuracy: 0.7188\n",
      "Epoch 7/12 - Loss: 0.6569 - Accuracy: 0.7500\n",
      "Epoch 8/12 - Loss: 0.6098 - Accuracy: 0.8125\n",
      "Epoch 9/12 - Loss: 0.5705 - Accuracy: 0.8125\n",
      "Epoch 10/12 - Loss: 0.5371 - Accuracy: 0.8438\n",
      "Epoch 11/12 - Loss: 0.5084 - Accuracy: 0.8438\n",
      "Epoch 12/12 - Loss: 0.4838 - Accuracy: 0.8438\n"
     ]
    }
   ],
   "source": [
    "# 1) model has been created without tenserflow or keras, just used for mnist dataset.\n",
    "\n",
    "\n",
    "\n",
    "\n",
    "import tensorflow as tf\n",
    "from tensorflow.keras.datasets import mnist\n",
    "from tensorflow.keras.utils import to_categorical\n",
    "\n",
    "# Veri çekme ve ön işleme için TensorFlow'u kullanma\n",
    "(train_images, train_labels), (test_images, test_labels) = mnist.load_data()\n",
    "train_images = train_images.reshape((60000, 28 * 28)).astype('float32') / 255\n",
    "test_images = test_images.reshape((10000, 28 * 28)).astype('float32') / 255\n",
    "\n",
    "train_labels = to_categorical(train_labels)\n",
    "test_labels = to_categorical(test_labels)\n",
    "\n",
    "# Sadece TensorFlow'u veri çekme ve ön işleme için kullan\n",
    "# Geri kalan işlemleri numpy ile gerçekleştir\n",
    "import numpy as np\n",
    "\n",
    "def sigmoid(x):\n",
    "    return 1 / (1 + np.exp(-x))\n",
    "\n",
    "def softmax(x):\n",
    "    exp_x = np.exp(x - np.max(x, axis=-1, keepdims=True))\n",
    "    return exp_x / np.sum(exp_x, axis=-1, keepdims=True)\n",
    "\n",
    "def categorical_crossentropy(predictions, targets):\n",
    "    epsilon = 1e-15\n",
    "    predictions = np.clip(predictions, epsilon, 1 - epsilon)\n",
    "    N = predictions.shape[0]\n",
    "    cross_entropy = -np.sum(targets * np.log(predictions + 1e-9)) / N\n",
    "    return cross_entropy\n",
    "\n",
    "def accuracy(predictions, targets):\n",
    "    predicted_labels = np.argmax(predictions, axis=-1)\n",
    "    true_labels = np.argmax(targets, axis=-1)\n",
    "    correct_predictions = np.sum(predicted_labels == true_labels)\n",
    "    total_samples = predictions.shape[0]\n",
    "    return correct_predictions / total_samples\n",
    "\n",
    "# Modeli oluşturma\n",
    "input_size = 28 * 28\n",
    "hidden_size1 = 128\n",
    "hidden_size2 = 64\n",
    "output_size = 10\n",
    "\n",
    "weights_input_hidden1 = np.random.randn(input_size, hidden_size1)\n",
    "biases_input_hidden1 = np.zeros((1, hidden_size1))\n",
    "\n",
    "weights_hidden1_hidden2 = np.random.randn(hidden_size1, hidden_size2)\n",
    "biases_hidden1_hidden2 = np.zeros((1, hidden_size2))\n",
    "\n",
    "weights_hidden2_output = np.random.randn(hidden_size2, output_size)\n",
    "biases_hidden2_output = np.zeros((1, output_size))\n",
    "\n",
    "# Modeli eğitme\n",
    "learning_rate = 0.01\n",
    "epochs = 12\n",
    "batch_size = 32\n",
    "\n",
    "for epoch in range(epochs):\n",
    "    for i in range(0, len(train_images), batch_size):\n",
    "        # İleri yayılım\n",
    "        batch_images = train_images[i:i+batch_size]\n",
    "        batch_labels = train_labels[i:i+batch_size]\n",
    "\n",
    "        hidden_input1 = np.dot(batch_images, weights_input_hidden1) + biases_input_hidden1\n",
    "        hidden_output1 = sigmoid(hidden_input1)\n",
    "\n",
    "        hidden_input2 = np.dot(hidden_output1, weights_hidden1_hidden2) + biases_hidden1_hidden2\n",
    "        hidden_output2 = sigmoid(hidden_input2)\n",
    "\n",
    "        output_input = np.dot(hidden_output2, weights_hidden2_output) + biases_hidden2_output\n",
    "        output_predictions = softmax(output_input)\n",
    "\n",
    "        # Loss hesaplama\n",
    "        loss = categorical_crossentropy(output_predictions, batch_labels)\n",
    "\n",
    "        # Accuracy hesaplama\n",
    "        acc = accuracy(output_predictions, batch_labels)\n",
    "\n",
    "        # Geri yayılım\n",
    "        output_error = output_predictions - batch_labels\n",
    "        hidden2_error = np.dot(output_error, weights_hidden2_output.T) * hidden_output2 * (1 - hidden_output2)\n",
    "        hidden1_error = np.dot(hidden2_error, weights_hidden1_hidden2.T) * hidden_output1 * (1 - hidden_output1)\n",
    "\n",
    "        # Parametre güncelleme\n",
    "        weights_hidden2_output -= learning_rate * np.dot(hidden_output2.T, output_error) / len(batch_images)\n",
    "        biases_hidden2_output -= learning_rate * np.sum(output_error, axis=0, keepdims=True) / len(batch_images)\n",
    "\n",
    "        weights_hidden1_hidden2 -= learning_rate * np.dot(hidden_output1.T, hidden2_error) / len(batch_images)\n",
    "        biases_hidden1_hidden2 -= learning_rate * np.sum(hidden2_error, axis=0, keepdims=True) / len(batch_images)\n",
    "\n",
    "        weights_input_hidden1 -= learning_rate * np.dot(batch_images.T, hidden1_error) / len(batch_images)\n",
    "        biases_input_hidden1 -= learning_rate * np.sum(hidden1_error, axis=0, keepdims=True) / len(batch_images)\n",
    "\n",
    "    print(f\"Epoch {epoch+1}/{epochs} - Loss: {loss:.4f} - Accuracy: {acc:.4f}\")\n"
   ]
  },
  {
   "cell_type": "code",
   "execution_count": 4,
   "metadata": {
    "colab": {
     "base_uri": "https://localhost:8080/"
    },
    "executionInfo": {
     "elapsed": 24620,
     "status": "ok",
     "timestamp": 1701605411463,
     "user": {
      "displayName": "Gürkan Albayrak",
      "userId": "10738356199584144970"
     },
     "user_tz": -180
    },
    "id": "m2bEVOr-9HDt",
    "outputId": "f036b130-2cdf-46f7-f8c2-e3941452c288"
   },
   "outputs": [
    {
     "name": "stdout",
     "output_type": "stream",
     "text": [
      "PCA ile elde edilen özellik sayısı: 331\n"
     ]
    },
    {
     "name": "stderr",
     "output_type": "stream",
     "text": [
      "<ipython-input-4-e319b9ae451f>:47: RuntimeWarning: overflow encountered in exp\n",
      "  return 1 / (1 + np.exp(-x))\n"
     ]
    },
    {
     "name": "stdout",
     "output_type": "stream",
     "text": [
      "Epoch 1/12 - Loss: 2.0254 - Accuracy: 0.2500\n",
      "Epoch 2/12 - Loss: 1.1891 - Accuracy: 0.5000\n",
      "Epoch 3/12 - Loss: 0.9063 - Accuracy: 0.6875\n",
      "Epoch 4/12 - Loss: 0.7566 - Accuracy: 0.7188\n",
      "Epoch 5/12 - Loss: 0.6606 - Accuracy: 0.7812\n",
      "Epoch 6/12 - Loss: 0.5938 - Accuracy: 0.8125\n",
      "Epoch 7/12 - Loss: 0.5438 - Accuracy: 0.8750\n",
      "Epoch 8/12 - Loss: 0.5044 - Accuracy: 0.8750\n",
      "Epoch 9/12 - Loss: 0.4725 - Accuracy: 0.8750\n",
      "Epoch 10/12 - Loss: 0.4465 - Accuracy: 0.8750\n",
      "Epoch 11/12 - Loss: 0.4249 - Accuracy: 0.9062\n",
      "Epoch 12/12 - Loss: 0.4068 - Accuracy: 0.9062\n"
     ]
    }
   ],
   "source": [
    "# 2) i have used the same model of first section, but i also used PCA inside of the mnist dataset.\n",
    "\n",
    "import numpy as np\n",
    "from sklearn.decomposition import PCA\n",
    "from tensorflow.keras.datasets import mnist\n",
    "from sklearn.preprocessing import StandardScaler\n",
    "from tensorflow.keras.utils import to_categorical\n",
    "\n",
    "# Veriyi yükleme\n",
    "(train_images, train_labels), (test_images, test_labels) = mnist.load_data()\n",
    "\n",
    "# Veriyi düzleştirme\n",
    "train_images = train_images.reshape((60000, 28 * 28)).astype('float32')/255\n",
    "test_images = test_images.reshape((10000, 28 * 28)).astype('float32')/255\n",
    "\n",
    "\n",
    "train_labels = to_categorical(train_labels)\n",
    "test_labels = to_categorical(test_labels)\n",
    "\n",
    "# Veriyi normalize etme\n",
    "scaler = StandardScaler()\n",
    "train_images = scaler.fit_transform(train_images)\n",
    "test_images = scaler.transform(test_images)\n",
    "\n",
    "\n",
    "# PCA modelini oluştur\n",
    "pca = PCA(n_components=0.95)  # Toplam varyansın %95'ini korumak için yeterli bileşeni seç\n",
    "pca.fit(train_images)\n",
    "\n",
    "# Eğitim ve test verilerini PCA ile dönüştürme\n",
    "train_images = pca.transform(train_images)\n",
    "test_images = pca.transform(test_images)\n",
    "\n",
    "# PCA ile elde edilen özellik sayısını kontrol etme\n",
    "num_features = train_images.shape[1]\n",
    "print(\"PCA ile elde edilen özellik sayısı:\", num_features)\n",
    "\n",
    "\n",
    "import numpy as np\n",
    "\n",
    "def sigmoid(x):\n",
    "    return 1 / (1 + np.exp(-x))\n",
    "\n",
    "def softmax(x):\n",
    "    exp_x = np.exp(x - np.max(x, axis=-1, keepdims=True))\n",
    "    return exp_x / np.sum(exp_x, axis=-1, keepdims=True)\n",
    "\n",
    "def categorical_crossentropy(predictions, targets):\n",
    "    epsilon = 1e-15\n",
    "    predictions = np.clip(predictions, epsilon, 1 - epsilon)\n",
    "    N = predictions.shape[0]\n",
    "    cross_entropy = -np.sum(targets * np.log(predictions + 1e-9)) / N\n",
    "    return cross_entropy\n",
    "\n",
    "def accuracy(predictions, targets):\n",
    "    predicted_labels = np.argmax(predictions, axis=-1)\n",
    "    true_labels = np.argmax(targets, axis=-1)\n",
    "    correct_predictions = np.sum(predicted_labels == true_labels)\n",
    "    total_samples = predictions.shape[0]\n",
    "    return correct_predictions / total_samples\n",
    "\n",
    "\n",
    "\n",
    "# Modeli oluşturma\n",
    "input_size = num_features\n",
    "hidden_size1 = 128\n",
    "hidden_size2 = 64\n",
    "output_size = 10\n",
    "\n",
    "weights_input_hidden1 = np.random.randn(input_size, hidden_size1)\n",
    "biases_input_hidden1 = np.zeros((1, hidden_size1))\n",
    "\n",
    "weights_hidden1_hidden2 = np.random.randn(hidden_size1, hidden_size2)\n",
    "biases_hidden1_hidden2 = np.zeros((1, hidden_size2))\n",
    "\n",
    "weights_hidden2_output = np.random.randn(hidden_size2, output_size)\n",
    "biases_hidden2_output = np.zeros((1, output_size))\n",
    "\n",
    "# Modeli eğitme\n",
    "learning_rate = 0.01\n",
    "epochs = 12\n",
    "batch_size = 32\n",
    "\n",
    "for epoch in range(epochs):\n",
    "    for i in range(0, len(train_images), batch_size):\n",
    "        # İleri yayılım\n",
    "        batch_images = train_images[i:i+batch_size]\n",
    "        batch_labels = train_labels[i:i+batch_size]\n",
    "\n",
    "        hidden_input1 = np.dot(batch_images, weights_input_hidden1) + biases_input_hidden1\n",
    "        hidden_output1 = sigmoid(hidden_input1)\n",
    "\n",
    "        hidden_input2 = np.dot(hidden_output1, weights_hidden1_hidden2) + biases_hidden1_hidden2\n",
    "        hidden_output2 = sigmoid(hidden_input2)\n",
    "\n",
    "        output_input = np.dot(hidden_output2, weights_hidden2_output) + biases_hidden2_output\n",
    "        output_predictions = softmax(output_input)\n",
    "\n",
    "        # Loss hesaplama\n",
    "        loss = categorical_crossentropy(output_predictions, batch_labels)\n",
    "\n",
    "        # Accuracy hesaplama\n",
    "        acc = accuracy(output_predictions, batch_labels)\n",
    "\n",
    "        # Geri yayılım\n",
    "        output_error = output_predictions - batch_labels\n",
    "        hidden2_error = np.dot(output_error, weights_hidden2_output.T) * hidden_output2 * (1 - hidden_output2)\n",
    "        hidden1_error = np.dot(hidden2_error, weights_hidden1_hidden2.T) * hidden_output1 * (1 - hidden_output1)\n",
    "\n",
    "        # Parametre güncelleme\n",
    "        weights_hidden2_output -= learning_rate * np.dot(hidden_output2.T, output_error) / len(batch_images)\n",
    "        biases_hidden2_output -= learning_rate * np.sum(output_error, axis=0, keepdims=True) / len(batch_images)\n",
    "\n",
    "        weights_hidden1_hidden2 -= learning_rate * np.dot(hidden_output1.T, hidden2_error) / len(batch_images)\n",
    "        biases_hidden1_hidden2 -= learning_rate * np.sum(hidden2_error, axis=0, keepdims=True) / len(batch_images)\n",
    "\n",
    "        weights_input_hidden1 -= learning_rate * np.dot(batch_images.T, hidden1_error) / len(batch_images)\n",
    "        biases_input_hidden1 -= learning_rate * np.sum(hidden1_error, axis=0, keepdims=True) / len(batch_images)\n",
    "\n",
    "    print(f\"Epoch {epoch+1}/{epochs} - Loss: {loss:.4f} - Accuracy: {acc:.4f}\")\n",
    "\n",
    "\n",
    "\n",
    "\n",
    "\n",
    "\n"
   ]
  },
  {
   "cell_type": "code",
   "execution_count": 6,
   "metadata": {
    "colab": {
     "base_uri": "https://localhost:8080/",
     "height": 1000
    },
    "executionInfo": {
     "elapsed": 42941,
     "status": "ok",
     "timestamp": 1701608254614,
     "user": {
      "displayName": "Gürkan Albayrak",
      "userId": "10738356199584144970"
     },
     "user_tz": -180
    },
    "id": "T_zc_3rj9HF8",
    "outputId": "8efc11e4-af0e-411f-a325-b520a329e0f4"
   },
   "outputs": [
    {
     "name": "stdout",
     "output_type": "stream",
     "text": [
      "Epoch 1/10\n",
      "1875/1875 [==============================] - 5s 2ms/step - loss: 0.6430 - accuracy: 0.8299 - val_loss: 0.3182 - val_accuracy: 0.9113\n",
      "Epoch 2/10\n",
      "1875/1875 [==============================] - 4s 2ms/step - loss: 0.3011 - accuracy: 0.9136 - val_loss: 0.2549 - val_accuracy: 0.9281\n",
      "Epoch 3/10\n",
      "1875/1875 [==============================] - 4s 2ms/step - loss: 0.2495 - accuracy: 0.9280 - val_loss: 0.2289 - val_accuracy: 0.9325\n",
      "Epoch 4/10\n",
      "1875/1875 [==============================] - 4s 2ms/step - loss: 0.2158 - accuracy: 0.9379 - val_loss: 0.1951 - val_accuracy: 0.9407\n",
      "Epoch 5/10\n",
      "1875/1875 [==============================] - 4s 2ms/step - loss: 0.1901 - accuracy: 0.9458 - val_loss: 0.1757 - val_accuracy: 0.9464\n",
      "Epoch 6/10\n",
      "1875/1875 [==============================] - 4s 2ms/step - loss: 0.1695 - accuracy: 0.9514 - val_loss: 0.1643 - val_accuracy: 0.9492\n",
      "Epoch 7/10\n",
      "1875/1875 [==============================] - 5s 2ms/step - loss: 0.1531 - accuracy: 0.9560 - val_loss: 0.1480 - val_accuracy: 0.9557\n",
      "Epoch 8/10\n",
      "1875/1875 [==============================] - 4s 2ms/step - loss: 0.1387 - accuracy: 0.9604 - val_loss: 0.1355 - val_accuracy: 0.9587\n",
      "Epoch 9/10\n",
      "1875/1875 [==============================] - 4s 2ms/step - loss: 0.1272 - accuracy: 0.9637 - val_loss: 0.1273 - val_accuracy: 0.9607\n",
      "Epoch 10/10\n",
      "1875/1875 [==============================] - 4s 2ms/step - loss: 0.1168 - accuracy: 0.9663 - val_loss: 0.1219 - val_accuracy: 0.9621\n"
     ]
    },
    {
     "data": {
      "image/png": "[encoded data removed]",
      "text/plain": [
       "<Figure size 640x480 with 1 Axes>"
      ]
     },
     "metadata": {},
     "output_type": "display_data"
    },
    {
     "data": {
      "image/png": "[encoded data removed]",
      "text/plain": [
       "<Figure size 640x480 with 1 Axes>"
      ]
     },
     "metadata": {},
     "output_type": "display_data"
    }
   ],
   "source": [
    "import tensorflow as tf\n",
    "from tensorflow.keras import layers, models\n",
    "\n",
    "# MNIST veri seti\n",
    "mnist = tf.keras.datasets.mnist\n",
    "(train_images, train_labels), (test_images, test_labels) = mnist.load_data()\n",
    "\n",
    "# Veri normalize\n",
    "train_images, test_images = train_images / 255.0, test_images / 255.0\n",
    "\n",
    "# Modeli oluştur\n",
    "model = models.Sequential()\n",
    "model.add(layers.Flatten(input_shape=(28, 28)))\n",
    "model.add(layers.Dense(128, activation='relu'))\n",
    "model.add(layers.Dense(64, activation='relu'))\n",
    "model.add(layers.Dense(10, activation='softmax'))\n",
    "\n",
    "# Modeli derleyelim\n",
    "model.compile(optimizer=tf.keras.optimizers.SGD(learning_rate=0.01),\n",
    "              loss='sparse_categorical_crossentropy',\n",
    "              metrics=['accuracy'])\n",
    "\n",
    "# Modeli eğitelim\n",
    "history = model.fit(train_images, train_labels, epochs=10, validation_data=(test_images, test_labels))\n",
    "\n",
    "\n",
    "import matplotlib.pyplot as plt\n",
    "\n",
    "\n",
    "plt.plot(history.history['accuracy'], label='Training accuracy')\n",
    "plt.plot(history.history['val_accuracy'], label='Test accuracy')\n",
    "plt.xlabel('Epoch')\n",
    "plt.ylabel('Accuracy')\n",
    "plt.legend()\n",
    "plt.show()\n",
    "\n",
    "\n",
    "plt.plot(history.history['loss'], label='Training lost')\n",
    "plt.plot(history.history['val_loss'], label='Test lost')\n",
    "plt.xlabel('Epoch')\n",
    "plt.ylabel('loss')\n",
    "plt.legend()\n",
    "plt.show()\n"
   ]
  },
  {
   "cell_type": "code",
   "execution_count": null,
   "metadata": {
    "id": "kT0R0K8tdvwC"
   },
   "outputs": [],
   "source": []
  },
  {
   "cell_type": "code",
   "execution_count": null,
   "metadata": {
    "id": "MsTvl39HdvyS"
   },
   "outputs": [],
   "source": []
  }
 ],
 "metadata": {
  "colab": {
   "authorship_tag": "ABX9TyNYwvzzu0LZ7D6deG/kpdQ2",
   "provenance": []
  },
  "kernelspec": {
   "display_name": "Python 3 (ipykernel)",
   "language": "python",
   "name": "python3"
  },
  "language_info": {
   "codemirror_mode": {
    "name": "ipython",
    "version": 3
   },
   "file_extension": ".py",
   "mimetype": "text/x-python",
   "name": "python",
   "nbconvert_exporter": "python",
   "pygments_lexer": "ipython3",
   "version": "3.8.18"
  }
 },
 "nbformat": 4,
 "nbformat_minor": 4
}
